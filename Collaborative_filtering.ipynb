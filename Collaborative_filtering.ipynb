{
  "nbformat": 4,
  "nbformat_minor": 0,
  "metadata": {
    "colab": {
      "name": "Collaborative_filtering.ipynb",
      "provenance": [],
      "collapsed_sections": []
    },
    "kernelspec": {
      "name": "python3",
      "display_name": "Python 3"
    },
    "language_info": {
      "name": "python"
    },
    "accelerator": "GPU",
    "widgets": {
      "application/vnd.jupyter.widget-state+json": {
        "be21e34268884cd98ae15beff0582a92": {
          "model_module": "@jupyter-widgets/controls",
          "model_name": "HBoxModel",
          "state": {
            "_view_name": "HBoxView",
            "_dom_classes": [],
            "_model_name": "HBoxModel",
            "_view_module": "@jupyter-widgets/controls",
            "_model_module_version": "1.5.0",
            "_view_count": null,
            "_view_module_version": "1.5.0",
            "box_style": "",
            "layout": "IPY_MODEL_03ec238da50d41fea7e57f60601604b9",
            "_model_module": "@jupyter-widgets/controls",
            "children": [
              "IPY_MODEL_53379f0211ce4037b665279c64a164e9",
              "IPY_MODEL_baef3fa1e2964ae9bd5abceccd962af5"
            ]
          }
        },
        "03ec238da50d41fea7e57f60601604b9": {
          "model_module": "@jupyter-widgets/base",
          "model_name": "LayoutModel",
          "state": {
            "_view_name": "LayoutView",
            "grid_template_rows": null,
            "right": null,
            "justify_content": null,
            "_view_module": "@jupyter-widgets/base",
            "overflow": null,
            "_model_module_version": "1.2.0",
            "_view_count": null,
            "flex_flow": null,
            "width": null,
            "min_width": null,
            "border": null,
            "align_items": null,
            "bottom": null,
            "_model_module": "@jupyter-widgets/base",
            "top": null,
            "grid_column": null,
            "overflow_y": null,
            "overflow_x": null,
            "grid_auto_flow": null,
            "grid_area": null,
            "grid_template_columns": null,
            "flex": null,
            "_model_name": "LayoutModel",
            "justify_items": null,
            "grid_row": null,
            "max_height": null,
            "align_content": null,
            "visibility": null,
            "align_self": null,
            "height": null,
            "min_height": null,
            "padding": null,
            "grid_auto_rows": null,
            "grid_gap": null,
            "max_width": null,
            "order": null,
            "_view_module_version": "1.2.0",
            "grid_template_areas": null,
            "object_position": null,
            "object_fit": null,
            "grid_auto_columns": null,
            "margin": null,
            "display": null,
            "left": null
          }
        },
        "53379f0211ce4037b665279c64a164e9": {
          "model_module": "@jupyter-widgets/controls",
          "model_name": "FloatProgressModel",
          "state": {
            "_view_name": "ProgressView",
            "style": "IPY_MODEL_ba2d82862b2d43e7abf13f64718a53eb",
            "_dom_classes": [],
            "description": "100%",
            "_model_name": "FloatProgressModel",
            "bar_style": "success",
            "max": 20,
            "_view_module": "@jupyter-widgets/controls",
            "_model_module_version": "1.5.0",
            "value": 20,
            "_view_count": null,
            "_view_module_version": "1.5.0",
            "orientation": "horizontal",
            "min": 0,
            "description_tooltip": null,
            "_model_module": "@jupyter-widgets/controls",
            "layout": "IPY_MODEL_eb335412f51440908c9e306e9bac1db9"
          }
        },
        "baef3fa1e2964ae9bd5abceccd962af5": {
          "model_module": "@jupyter-widgets/controls",
          "model_name": "HTMLModel",
          "state": {
            "_view_name": "HTMLView",
            "style": "IPY_MODEL_ee85a3605c0a45369923b954031b10dd",
            "_dom_classes": [],
            "description": "",
            "_model_name": "HTMLModel",
            "placeholder": "​",
            "_view_module": "@jupyter-widgets/controls",
            "_model_module_version": "1.5.0",
            "value": " 20/20 [00:00&lt;00:00, 53.54it/s]",
            "_view_count": null,
            "_view_module_version": "1.5.0",
            "description_tooltip": null,
            "_model_module": "@jupyter-widgets/controls",
            "layout": "IPY_MODEL_45bbd08e076e475988d5d4cbdcab5a46"
          }
        },
        "ba2d82862b2d43e7abf13f64718a53eb": {
          "model_module": "@jupyter-widgets/controls",
          "model_name": "ProgressStyleModel",
          "state": {
            "_view_name": "StyleView",
            "_model_name": "ProgressStyleModel",
            "description_width": "initial",
            "_view_module": "@jupyter-widgets/base",
            "_model_module_version": "1.5.0",
            "_view_count": null,
            "_view_module_version": "1.2.0",
            "bar_color": null,
            "_model_module": "@jupyter-widgets/controls"
          }
        },
        "eb335412f51440908c9e306e9bac1db9": {
          "model_module": "@jupyter-widgets/base",
          "model_name": "LayoutModel",
          "state": {
            "_view_name": "LayoutView",
            "grid_template_rows": null,
            "right": null,
            "justify_content": null,
            "_view_module": "@jupyter-widgets/base",
            "overflow": null,
            "_model_module_version": "1.2.0",
            "_view_count": null,
            "flex_flow": null,
            "width": null,
            "min_width": null,
            "border": null,
            "align_items": null,
            "bottom": null,
            "_model_module": "@jupyter-widgets/base",
            "top": null,
            "grid_column": null,
            "overflow_y": null,
            "overflow_x": null,
            "grid_auto_flow": null,
            "grid_area": null,
            "grid_template_columns": null,
            "flex": null,
            "_model_name": "LayoutModel",
            "justify_items": null,
            "grid_row": null,
            "max_height": null,
            "align_content": null,
            "visibility": null,
            "align_self": null,
            "height": null,
            "min_height": null,
            "padding": null,
            "grid_auto_rows": null,
            "grid_gap": null,
            "max_width": null,
            "order": null,
            "_view_module_version": "1.2.0",
            "grid_template_areas": null,
            "object_position": null,
            "object_fit": null,
            "grid_auto_columns": null,
            "margin": null,
            "display": null,
            "left": null
          }
        },
        "ee85a3605c0a45369923b954031b10dd": {
          "model_module": "@jupyter-widgets/controls",
          "model_name": "DescriptionStyleModel",
          "state": {
            "_view_name": "StyleView",
            "_model_name": "DescriptionStyleModel",
            "description_width": "",
            "_view_module": "@jupyter-widgets/base",
            "_model_module_version": "1.5.0",
            "_view_count": null,
            "_view_module_version": "1.2.0",
            "_model_module": "@jupyter-widgets/controls"
          }
        },
        "45bbd08e076e475988d5d4cbdcab5a46": {
          "model_module": "@jupyter-widgets/base",
          "model_name": "LayoutModel",
          "state": {
            "_view_name": "LayoutView",
            "grid_template_rows": null,
            "right": null,
            "justify_content": null,
            "_view_module": "@jupyter-widgets/base",
            "overflow": null,
            "_model_module_version": "1.2.0",
            "_view_count": null,
            "flex_flow": null,
            "width": null,
            "min_width": null,
            "border": null,
            "align_items": null,
            "bottom": null,
            "_model_module": "@jupyter-widgets/base",
            "top": null,
            "grid_column": null,
            "overflow_y": null,
            "overflow_x": null,
            "grid_auto_flow": null,
            "grid_area": null,
            "grid_template_columns": null,
            "flex": null,
            "_model_name": "LayoutModel",
            "justify_items": null,
            "grid_row": null,
            "max_height": null,
            "align_content": null,
            "visibility": null,
            "align_self": null,
            "height": null,
            "min_height": null,
            "padding": null,
            "grid_auto_rows": null,
            "grid_gap": null,
            "max_width": null,
            "order": null,
            "_view_module_version": "1.2.0",
            "grid_template_areas": null,
            "object_position": null,
            "object_fit": null,
            "grid_auto_columns": null,
            "margin": null,
            "display": null,
            "left": null
          }
        },
        "686877298d9645b9b8f118ae1523207f": {
          "model_module": "@jupyter-widgets/controls",
          "model_name": "HBoxModel",
          "state": {
            "_view_name": "HBoxView",
            "_dom_classes": [],
            "_model_name": "HBoxModel",
            "_view_module": "@jupyter-widgets/controls",
            "_model_module_version": "1.5.0",
            "_view_count": null,
            "_view_module_version": "1.5.0",
            "box_style": "",
            "layout": "IPY_MODEL_14f85fce8a30422887091663443b4128",
            "_model_module": "@jupyter-widgets/controls",
            "children": [
              "IPY_MODEL_b7b5b25de05a4b4ebb232a1e933d3937",
              "IPY_MODEL_090d1f41dadd42f88281ece31aa7b6ca"
            ]
          }
        },
        "14f85fce8a30422887091663443b4128": {
          "model_module": "@jupyter-widgets/base",
          "model_name": "LayoutModel",
          "state": {
            "_view_name": "LayoutView",
            "grid_template_rows": null,
            "right": null,
            "justify_content": null,
            "_view_module": "@jupyter-widgets/base",
            "overflow": null,
            "_model_module_version": "1.2.0",
            "_view_count": null,
            "flex_flow": null,
            "width": null,
            "min_width": null,
            "border": null,
            "align_items": null,
            "bottom": null,
            "_model_module": "@jupyter-widgets/base",
            "top": null,
            "grid_column": null,
            "overflow_y": null,
            "overflow_x": null,
            "grid_auto_flow": null,
            "grid_area": null,
            "grid_template_columns": null,
            "flex": null,
            "_model_name": "LayoutModel",
            "justify_items": null,
            "grid_row": null,
            "max_height": null,
            "align_content": null,
            "visibility": null,
            "align_self": null,
            "height": null,
            "min_height": null,
            "padding": null,
            "grid_auto_rows": null,
            "grid_gap": null,
            "max_width": null,
            "order": null,
            "_view_module_version": "1.2.0",
            "grid_template_areas": null,
            "object_position": null,
            "object_fit": null,
            "grid_auto_columns": null,
            "margin": null,
            "display": null,
            "left": null
          }
        },
        "b7b5b25de05a4b4ebb232a1e933d3937": {
          "model_module": "@jupyter-widgets/controls",
          "model_name": "FloatProgressModel",
          "state": {
            "_view_name": "ProgressView",
            "style": "IPY_MODEL_e618337a7d984560bd14d55668aa1b89",
            "_dom_classes": [],
            "description": "100%",
            "_model_name": "FloatProgressModel",
            "bar_style": "success",
            "max": 944,
            "_view_module": "@jupyter-widgets/controls",
            "_model_module_version": "1.5.0",
            "value": 944,
            "_view_count": null,
            "_view_module_version": "1.5.0",
            "orientation": "horizontal",
            "min": 0,
            "description_tooltip": null,
            "_model_module": "@jupyter-widgets/controls",
            "layout": "IPY_MODEL_23b03733cc164225b298df678f39c8ab"
          }
        },
        "090d1f41dadd42f88281ece31aa7b6ca": {
          "model_module": "@jupyter-widgets/controls",
          "model_name": "HTMLModel",
          "state": {
            "_view_name": "HTMLView",
            "style": "IPY_MODEL_f2c13c0dfa2a4a0d8a9e796eaa6a5154",
            "_dom_classes": [],
            "description": "",
            "_model_name": "HTMLModel",
            "placeholder": "​",
            "_view_module": "@jupyter-widgets/controls",
            "_model_module_version": "1.5.0",
            "value": " 944/944 [00:00&lt;00:00, 1330.31it/s]",
            "_view_count": null,
            "_view_module_version": "1.5.0",
            "description_tooltip": null,
            "_model_module": "@jupyter-widgets/controls",
            "layout": "IPY_MODEL_db66a197312749a8838abb4647a0b934"
          }
        },
        "e618337a7d984560bd14d55668aa1b89": {
          "model_module": "@jupyter-widgets/controls",
          "model_name": "ProgressStyleModel",
          "state": {
            "_view_name": "StyleView",
            "_model_name": "ProgressStyleModel",
            "description_width": "initial",
            "_view_module": "@jupyter-widgets/base",
            "_model_module_version": "1.5.0",
            "_view_count": null,
            "_view_module_version": "1.2.0",
            "bar_color": null,
            "_model_module": "@jupyter-widgets/controls"
          }
        },
        "23b03733cc164225b298df678f39c8ab": {
          "model_module": "@jupyter-widgets/base",
          "model_name": "LayoutModel",
          "state": {
            "_view_name": "LayoutView",
            "grid_template_rows": null,
            "right": null,
            "justify_content": null,
            "_view_module": "@jupyter-widgets/base",
            "overflow": null,
            "_model_module_version": "1.2.0",
            "_view_count": null,
            "flex_flow": null,
            "width": null,
            "min_width": null,
            "border": null,
            "align_items": null,
            "bottom": null,
            "_model_module": "@jupyter-widgets/base",
            "top": null,
            "grid_column": null,
            "overflow_y": null,
            "overflow_x": null,
            "grid_auto_flow": null,
            "grid_area": null,
            "grid_template_columns": null,
            "flex": null,
            "_model_name": "LayoutModel",
            "justify_items": null,
            "grid_row": null,
            "max_height": null,
            "align_content": null,
            "visibility": null,
            "align_self": null,
            "height": null,
            "min_height": null,
            "padding": null,
            "grid_auto_rows": null,
            "grid_gap": null,
            "max_width": null,
            "order": null,
            "_view_module_version": "1.2.0",
            "grid_template_areas": null,
            "object_position": null,
            "object_fit": null,
            "grid_auto_columns": null,
            "margin": null,
            "display": null,
            "left": null
          }
        },
        "f2c13c0dfa2a4a0d8a9e796eaa6a5154": {
          "model_module": "@jupyter-widgets/controls",
          "model_name": "DescriptionStyleModel",
          "state": {
            "_view_name": "StyleView",
            "_model_name": "DescriptionStyleModel",
            "description_width": "",
            "_view_module": "@jupyter-widgets/base",
            "_model_module_version": "1.5.0",
            "_view_count": null,
            "_view_module_version": "1.2.0",
            "_model_module": "@jupyter-widgets/controls"
          }
        },
        "db66a197312749a8838abb4647a0b934": {
          "model_module": "@jupyter-widgets/base",
          "model_name": "LayoutModel",
          "state": {
            "_view_name": "LayoutView",
            "grid_template_rows": null,
            "right": null,
            "justify_content": null,
            "_view_module": "@jupyter-widgets/base",
            "overflow": null,
            "_model_module_version": "1.2.0",
            "_view_count": null,
            "flex_flow": null,
            "width": null,
            "min_width": null,
            "border": null,
            "align_items": null,
            "bottom": null,
            "_model_module": "@jupyter-widgets/base",
            "top": null,
            "grid_column": null,
            "overflow_y": null,
            "overflow_x": null,
            "grid_auto_flow": null,
            "grid_area": null,
            "grid_template_columns": null,
            "flex": null,
            "_model_name": "LayoutModel",
            "justify_items": null,
            "grid_row": null,
            "max_height": null,
            "align_content": null,
            "visibility": null,
            "align_self": null,
            "height": null,
            "min_height": null,
            "padding": null,
            "grid_auto_rows": null,
            "grid_gap": null,
            "max_width": null,
            "order": null,
            "_view_module_version": "1.2.0",
            "grid_template_areas": null,
            "object_position": null,
            "object_fit": null,
            "grid_auto_columns": null,
            "margin": null,
            "display": null,
            "left": null
          }
        }
      }
    }
  },
  "cells": [
    {
      "cell_type": "code",
      "metadata": {
        "colab": {
          "base_uri": "https://localhost:8080/"
        },
        "id": "eVYt0Naxf05u",
        "outputId": "3211eb8c-e7b0-4d61-ebd5-51169e1c3807"
      },
      "source": [
        "from google.colab import drive\n",
        "drive.mount('/content/drive')"
      ],
      "execution_count": 1,
      "outputs": [
        {
          "output_type": "stream",
          "text": [
            "Mounted at /content/drive\n"
          ],
          "name": "stdout"
        }
      ]
    },
    {
      "cell_type": "code",
      "metadata": {
        "colab": {
          "base_uri": "https://localhost:8080/"
        },
        "id": "PGQX-ERbf-57",
        "outputId": "5e06c051-51ac-4427-a7bf-a9b1233ddece"
      },
      "source": [
        "%cp -av /content/drive/MyDrive/rec/items.csv items.csv\n",
        "%cp -av /content/drive/MyDrive/rec/ratings.csv ratings.csv"
      ],
      "execution_count": 2,
      "outputs": [
        {
          "output_type": "stream",
          "text": [
            "'/content/drive/MyDrive/rec/items.csv' -> 'items.csv'\n",
            "'/content/drive/MyDrive/rec/ratings.csv' -> 'ratings.csv'\n"
          ],
          "name": "stdout"
        }
      ]
    },
    {
      "cell_type": "code",
      "metadata": {
        "colab": {
          "base_uri": "https://localhost:8080/"
        },
        "id": "vrc91PtD2BuN",
        "outputId": "d9ef51a8-334a-435d-91c4-6407c1e9f1d8"
      },
      "source": [
        "!pip install implicit"
      ],
      "execution_count": 3,
      "outputs": [
        {
          "output_type": "stream",
          "text": [
            "Collecting implicit\n",
            "\u001b[?25l  Downloading https://files.pythonhosted.org/packages/bc/07/c0121884722d16e2c5beeb815f6b84b41cbf22e738e4075f1475be2791bc/implicit-0.4.4.tar.gz (1.1MB)\n",
            "\r\u001b[K     |▎                               | 10kB 18.0MB/s eta 0:00:01\r\u001b[K     |▋                               | 20kB 22.7MB/s eta 0:00:01\r\u001b[K     |▉                               | 30kB 26.9MB/s eta 0:00:01\r\u001b[K     |█▏                              | 40kB 30.2MB/s eta 0:00:01\r\u001b[K     |█▌                              | 51kB 33.1MB/s eta 0:00:01\r\u001b[K     |█▊                              | 61kB 34.9MB/s eta 0:00:01\r\u001b[K     |██                              | 71kB 34.2MB/s eta 0:00:01\r\u001b[K     |██▍                             | 81kB 34.1MB/s eta 0:00:01\r\u001b[K     |██▋                             | 92kB 30.6MB/s eta 0:00:01\r\u001b[K     |███                             | 102kB 30.2MB/s eta 0:00:01\r\u001b[K     |███▎                            | 112kB 30.2MB/s eta 0:00:01\r\u001b[K     |███▌                            | 122kB 30.2MB/s eta 0:00:01\r\u001b[K     |███▉                            | 133kB 30.2MB/s eta 0:00:01\r\u001b[K     |████▏                           | 143kB 30.2MB/s eta 0:00:01\r\u001b[K     |████▍                           | 153kB 30.2MB/s eta 0:00:01\r\u001b[K     |████▊                           | 163kB 30.2MB/s eta 0:00:01\r\u001b[K     |█████                           | 174kB 30.2MB/s eta 0:00:01\r\u001b[K     |█████▎                          | 184kB 30.2MB/s eta 0:00:01\r\u001b[K     |█████▋                          | 194kB 30.2MB/s eta 0:00:01\r\u001b[K     |██████                          | 204kB 30.2MB/s eta 0:00:01\r\u001b[K     |██████▏                         | 215kB 30.2MB/s eta 0:00:01\r\u001b[K     |██████▌                         | 225kB 30.2MB/s eta 0:00:01\r\u001b[K     |██████▉                         | 235kB 30.2MB/s eta 0:00:01\r\u001b[K     |███████                         | 245kB 30.2MB/s eta 0:00:01\r\u001b[K     |███████▍                        | 256kB 30.2MB/s eta 0:00:01\r\u001b[K     |███████▊                        | 266kB 30.2MB/s eta 0:00:01\r\u001b[K     |████████                        | 276kB 30.2MB/s eta 0:00:01\r\u001b[K     |████████▎                       | 286kB 30.2MB/s eta 0:00:01\r\u001b[K     |████████▋                       | 296kB 30.2MB/s eta 0:00:01\r\u001b[K     |████████▉                       | 307kB 30.2MB/s eta 0:00:01\r\u001b[K     |█████████▏                      | 317kB 30.2MB/s eta 0:00:01\r\u001b[K     |█████████▌                      | 327kB 30.2MB/s eta 0:00:01\r\u001b[K     |█████████▊                      | 337kB 30.2MB/s eta 0:00:01\r\u001b[K     |██████████                      | 348kB 30.2MB/s eta 0:00:01\r\u001b[K     |██████████▍                     | 358kB 30.2MB/s eta 0:00:01\r\u001b[K     |██████████▋                     | 368kB 30.2MB/s eta 0:00:01\r\u001b[K     |███████████                     | 378kB 30.2MB/s eta 0:00:01\r\u001b[K     |███████████▏                    | 389kB 30.2MB/s eta 0:00:01\r\u001b[K     |███████████▌                    | 399kB 30.2MB/s eta 0:00:01\r\u001b[K     |███████████▉                    | 409kB 30.2MB/s eta 0:00:01\r\u001b[K     |████████████                    | 419kB 30.2MB/s eta 0:00:01\r\u001b[K     |████████████▍                   | 430kB 30.2MB/s eta 0:00:01\r\u001b[K     |████████████▊                   | 440kB 30.2MB/s eta 0:00:01\r\u001b[K     |█████████████                   | 450kB 30.2MB/s eta 0:00:01\r\u001b[K     |█████████████▎                  | 460kB 30.2MB/s eta 0:00:01\r\u001b[K     |█████████████▋                  | 471kB 30.2MB/s eta 0:00:01\r\u001b[K     |█████████████▉                  | 481kB 30.2MB/s eta 0:00:01\r\u001b[K     |██████████████▏                 | 491kB 30.2MB/s eta 0:00:01\r\u001b[K     |██████████████▌                 | 501kB 30.2MB/s eta 0:00:01\r\u001b[K     |██████████████▊                 | 512kB 30.2MB/s eta 0:00:01\r\u001b[K     |███████████████                 | 522kB 30.2MB/s eta 0:00:01\r\u001b[K     |███████████████▍                | 532kB 30.2MB/s eta 0:00:01\r\u001b[K     |███████████████▋                | 542kB 30.2MB/s eta 0:00:01\r\u001b[K     |████████████████                | 552kB 30.2MB/s eta 0:00:01\r\u001b[K     |████████████████▎               | 563kB 30.2MB/s eta 0:00:01\r\u001b[K     |████████████████▌               | 573kB 30.2MB/s eta 0:00:01\r\u001b[K     |████████████████▉               | 583kB 30.2MB/s eta 0:00:01\r\u001b[K     |█████████████████▏              | 593kB 30.2MB/s eta 0:00:01\r\u001b[K     |█████████████████▍              | 604kB 30.2MB/s eta 0:00:01\r\u001b[K     |█████████████████▊              | 614kB 30.2MB/s eta 0:00:01\r\u001b[K     |██████████████████              | 624kB 30.2MB/s eta 0:00:01\r\u001b[K     |██████████████████▎             | 634kB 30.2MB/s eta 0:00:01\r\u001b[K     |██████████████████▋             | 645kB 30.2MB/s eta 0:00:01\r\u001b[K     |███████████████████             | 655kB 30.2MB/s eta 0:00:01\r\u001b[K     |███████████████████▏            | 665kB 30.2MB/s eta 0:00:01\r\u001b[K     |███████████████████▌            | 675kB 30.2MB/s eta 0:00:01\r\u001b[K     |███████████████████▉            | 686kB 30.2MB/s eta 0:00:01\r\u001b[K     |████████████████████            | 696kB 30.2MB/s eta 0:00:01\r\u001b[K     |████████████████████▍           | 706kB 30.2MB/s eta 0:00:01\r\u001b[K     |████████████████████▊           | 716kB 30.2MB/s eta 0:00:01\r\u001b[K     |█████████████████████           | 727kB 30.2MB/s eta 0:00:01\r\u001b[K     |█████████████████████▎          | 737kB 30.2MB/s eta 0:00:01\r\u001b[K     |█████████████████████▋          | 747kB 30.2MB/s eta 0:00:01\r\u001b[K     |█████████████████████▉          | 757kB 30.2MB/s eta 0:00:01\r\u001b[K     |██████████████████████▏         | 768kB 30.2MB/s eta 0:00:01\r\u001b[K     |██████████████████████▍         | 778kB 30.2MB/s eta 0:00:01\r\u001b[K     |██████████████████████▊         | 788kB 30.2MB/s eta 0:00:01\r\u001b[K     |███████████████████████         | 798kB 30.2MB/s eta 0:00:01\r\u001b[K     |███████████████████████▎        | 808kB 30.2MB/s eta 0:00:01\r\u001b[K     |███████████████████████▋        | 819kB 30.2MB/s eta 0:00:01\r\u001b[K     |████████████████████████        | 829kB 30.2MB/s eta 0:00:01\r\u001b[K     |████████████████████████▏       | 839kB 30.2MB/s eta 0:00:01\r\u001b[K     |████████████████████████▌       | 849kB 30.2MB/s eta 0:00:01\r\u001b[K     |████████████████████████▉       | 860kB 30.2MB/s eta 0:00:01\r\u001b[K     |█████████████████████████       | 870kB 30.2MB/s eta 0:00:01\r\u001b[K     |█████████████████████████▍      | 880kB 30.2MB/s eta 0:00:01\r\u001b[K     |█████████████████████████▊      | 890kB 30.2MB/s eta 0:00:01\r\u001b[K     |██████████████████████████      | 901kB 30.2MB/s eta 0:00:01\r\u001b[K     |██████████████████████████▎     | 911kB 30.2MB/s eta 0:00:01\r\u001b[K     |██████████████████████████▋     | 921kB 30.2MB/s eta 0:00:01\r\u001b[K     |██████████████████████████▉     | 931kB 30.2MB/s eta 0:00:01\r\u001b[K     |███████████████████████████▏    | 942kB 30.2MB/s eta 0:00:01\r\u001b[K     |███████████████████████████▌    | 952kB 30.2MB/s eta 0:00:01\r\u001b[K     |███████████████████████████▊    | 962kB 30.2MB/s eta 0:00:01\r\u001b[K     |████████████████████████████    | 972kB 30.2MB/s eta 0:00:01\r\u001b[K     |████████████████████████████▍   | 983kB 30.2MB/s eta 0:00:01\r\u001b[K     |████████████████████████████▋   | 993kB 30.2MB/s eta 0:00:01\r\u001b[K     |█████████████████████████████   | 1.0MB 30.2MB/s eta 0:00:01\r\u001b[K     |█████████████████████████████▎  | 1.0MB 30.2MB/s eta 0:00:01\r\u001b[K     |█████████████████████████████▌  | 1.0MB 30.2MB/s eta 0:00:01\r\u001b[K     |█████████████████████████████▉  | 1.0MB 30.2MB/s eta 0:00:01\r\u001b[K     |██████████████████████████████▏ | 1.0MB 30.2MB/s eta 0:00:01\r\u001b[K     |██████████████████████████████▍ | 1.1MB 30.2MB/s eta 0:00:01\r\u001b[K     |██████████████████████████████▊ | 1.1MB 30.2MB/s eta 0:00:01\r\u001b[K     |███████████████████████████████ | 1.1MB 30.2MB/s eta 0:00:01\r\u001b[K     |███████████████████████████████▎| 1.1MB 30.2MB/s eta 0:00:01\r\u001b[K     |███████████████████████████████▋| 1.1MB 30.2MB/s eta 0:00:01\r\u001b[K     |████████████████████████████████| 1.1MB 30.2MB/s eta 0:00:01\r\u001b[K     |████████████████████████████████| 1.1MB 30.2MB/s \n",
            "\u001b[?25hRequirement already satisfied: numpy in /usr/local/lib/python3.7/dist-packages (from implicit) (1.19.5)\n",
            "Requirement already satisfied: scipy>=0.16 in /usr/local/lib/python3.7/dist-packages (from implicit) (1.4.1)\n",
            "Requirement already satisfied: tqdm>=4.27 in /usr/local/lib/python3.7/dist-packages (from implicit) (4.41.1)\n",
            "Building wheels for collected packages: implicit\n",
            "  Building wheel for implicit (setup.py) ... \u001b[?25l\u001b[?25hdone\n",
            "  Created wheel for implicit: filename=implicit-0.4.4-cp37-cp37m-linux_x86_64.whl size=3406415 sha256=b1611af04d25bddebada126546568ab68855d02de63e1994d1217f19ec3dfe2b\n",
            "  Stored in directory: /root/.cache/pip/wheels/bf/d4/ec/fd4f622fcbefb7521f149905295b2c26adecb23af38aa28217\n",
            "Successfully built implicit\n",
            "Installing collected packages: implicit\n",
            "Successfully installed implicit-0.4.4\n"
          ],
          "name": "stdout"
        }
      ]
    },
    {
      "cell_type": "code",
      "metadata": {
        "id": "00ox4ivUaUUW"
      },
      "source": [
        "import pandas as pd\n",
        "import numpy as np\n",
        "from scipy.sparse import csr_matrix\n",
        "from sklearn.neighbors import NearestNeighbors\n",
        "import matplotlib.pyplot as plt\n",
        "import pickle\n",
        "\n",
        "from implicit.evaluation import train_test_split, precision_at_k, mean_average_precision_at_k\n",
        "import implicit\n",
        "import seaborn as sns\n",
        "movies = pd.read_csv(\"items.csv\")\n",
        "ratings = pd.read_csv(\"ratings.csv\")"
      ],
      "execution_count": 4,
      "outputs": []
    },
    {
      "cell_type": "code",
      "metadata": {
        "id": "qZIuAlXwH5bh",
        "colab": {
          "base_uri": "https://localhost:8080/",
          "height": 204
        },
        "outputId": "2850e9ad-940f-42f1-b510-89a56fb03cf2"
      },
      "source": [
        "ratings.head()"
      ],
      "execution_count": 5,
      "outputs": [
        {
          "output_type": "execute_result",
          "data": {
            "text/html": [
              "<div>\n",
              "<style scoped>\n",
              "    .dataframe tbody tr th:only-of-type {\n",
              "        vertical-align: middle;\n",
              "    }\n",
              "\n",
              "    .dataframe tbody tr th {\n",
              "        vertical-align: top;\n",
              "    }\n",
              "\n",
              "    .dataframe thead th {\n",
              "        text-align: right;\n",
              "    }\n",
              "</style>\n",
              "<table border=\"1\" class=\"dataframe\">\n",
              "  <thead>\n",
              "    <tr style=\"text-align: right;\">\n",
              "      <th></th>\n",
              "      <th>user_id</th>\n",
              "      <th>movie_id</th>\n",
              "      <th>rating</th>\n",
              "      <th>unix_timestamp</th>\n",
              "    </tr>\n",
              "  </thead>\n",
              "  <tbody>\n",
              "    <tr>\n",
              "      <th>0</th>\n",
              "      <td>196</td>\n",
              "      <td>242</td>\n",
              "      <td>3</td>\n",
              "      <td>881250949</td>\n",
              "    </tr>\n",
              "    <tr>\n",
              "      <th>1</th>\n",
              "      <td>186</td>\n",
              "      <td>302</td>\n",
              "      <td>3</td>\n",
              "      <td>891717742</td>\n",
              "    </tr>\n",
              "    <tr>\n",
              "      <th>2</th>\n",
              "      <td>22</td>\n",
              "      <td>377</td>\n",
              "      <td>1</td>\n",
              "      <td>878887116</td>\n",
              "    </tr>\n",
              "    <tr>\n",
              "      <th>3</th>\n",
              "      <td>244</td>\n",
              "      <td>51</td>\n",
              "      <td>2</td>\n",
              "      <td>880606923</td>\n",
              "    </tr>\n",
              "    <tr>\n",
              "      <th>4</th>\n",
              "      <td>166</td>\n",
              "      <td>346</td>\n",
              "      <td>1</td>\n",
              "      <td>886397596</td>\n",
              "    </tr>\n",
              "  </tbody>\n",
              "</table>\n",
              "</div>"
            ],
            "text/plain": [
              "   user_id  movie_id  rating  unix_timestamp\n",
              "0      196       242       3       881250949\n",
              "1      186       302       3       891717742\n",
              "2       22       377       1       878887116\n",
              "3      244        51       2       880606923\n",
              "4      166       346       1       886397596"
            ]
          },
          "metadata": {
            "tags": []
          },
          "execution_count": 5
        }
      ]
    },
    {
      "cell_type": "code",
      "metadata": {
        "id": "TwWhNuzAipR7"
      },
      "source": [
        "alpha = 40\n",
        "\n",
        "user_item = csr_matrix( ([alpha]*len(ratings['movie_id']), (ratings['user_id'], ratings['movie_id']) ))\n",
        "item_user = user_item.T.tocsr()"
      ],
      "execution_count": 6,
      "outputs": []
    },
    {
      "cell_type": "code",
      "metadata": {
        "colab": {
          "base_uri": "https://localhost:8080/",
          "height": 166,
          "referenced_widgets": [
            "be21e34268884cd98ae15beff0582a92",
            "03ec238da50d41fea7e57f60601604b9",
            "53379f0211ce4037b665279c64a164e9",
            "baef3fa1e2964ae9bd5abceccd962af5",
            "ba2d82862b2d43e7abf13f64718a53eb",
            "eb335412f51440908c9e306e9bac1db9",
            "ee85a3605c0a45369923b954031b10dd",
            "45bbd08e076e475988d5d4cbdcab5a46",
            "686877298d9645b9b8f118ae1523207f",
            "14f85fce8a30422887091663443b4128",
            "b7b5b25de05a4b4ebb232a1e933d3937",
            "090d1f41dadd42f88281ece31aa7b6ca",
            "e618337a7d984560bd14d55668aa1b89",
            "23b03733cc164225b298df678f39c8ab",
            "f2c13c0dfa2a4a0d8a9e796eaa6a5154",
            "db66a197312749a8838abb4647a0b934"
          ]
        },
        "id": "3hrv5Dfo2cZX",
        "outputId": "b7c2bb51-55f3-4bba-bbd1-14b0f773844f"
      },
      "source": [
        "train, test = train_test_split(item_user, train_percentage=0.8)\n",
        "\n",
        "model = implicit.als.AlternatingLeastSquares(factors=100, \n",
        "    regularization=0.1, iterations=20, calculate_training_loss=False)\n",
        "model.fit(train)\n",
        "\n",
        "with open('model_collaborative.sav', 'wb') as pickle_out:\n",
        "    pickle.dump(model, pickle_out)\n",
        "\n",
        "p_at_k = precision_at_k(model, train.T.tocsr(), test.T.tocsr(), K=10)\n",
        "p_at_k"
      ],
      "execution_count": 13,
      "outputs": [
        {
          "output_type": "stream",
          "text": [
            "WARNING:implicit:GPU training requires factor size to be a multiple of 32. Increasing factors from 100 to 128.\n"
          ],
          "name": "stderr"
        },
        {
          "output_type": "stream",
          "text": [
            "(1683, 944)\n"
          ],
          "name": "stdout"
        },
        {
          "output_type": "display_data",
          "data": {
            "application/vnd.jupyter.widget-view+json": {
              "model_id": "be21e34268884cd98ae15beff0582a92",
              "version_minor": 0,
              "version_major": 2
            },
            "text/plain": [
              "HBox(children=(FloatProgress(value=0.0, max=20.0), HTML(value='')))"
            ]
          },
          "metadata": {
            "tags": []
          }
        },
        {
          "output_type": "stream",
          "text": [
            "\n"
          ],
          "name": "stdout"
        },
        {
          "output_type": "display_data",
          "data": {
            "application/vnd.jupyter.widget-view+json": {
              "model_id": "686877298d9645b9b8f118ae1523207f",
              "version_minor": 0,
              "version_major": 2
            },
            "text/plain": [
              "HBox(children=(FloatProgress(value=0.0, max=944.0), HTML(value='')))"
            ]
          },
          "metadata": {
            "tags": []
          }
        },
        {
          "output_type": "stream",
          "text": [
            "\n"
          ],
          "name": "stdout"
        },
        {
          "output_type": "execute_result",
          "data": {
            "text/plain": [
              "0.27697201017811707"
            ]
          },
          "metadata": {
            "tags": []
          },
          "execution_count": 13
        }
      ]
    },
    {
      "cell_type": "code",
      "metadata": {
        "id": "BKIEKR8T4BiP"
      },
      "source": [
        " user = 1\n",
        " recommended, _ =  zip(*model.recommend(user-1, user_item))"
      ],
      "execution_count": 9,
      "outputs": []
    },
    {
      "cell_type": "code",
      "metadata": {
        "id": "uJOmw6RIEghw"
      },
      "source": [
        "from scipy import sparse\n",
        "\n",
        "sparse.save_npz(\"collaborative.npz\", user_item)"
      ],
      "execution_count": 10,
      "outputs": []
    },
    {
      "cell_type": "code",
      "metadata": {
        "colab": {
          "base_uri": "https://localhost:8080/"
        },
        "id": "h823ubcc4hPz",
        "outputId": "f06a4d83-fbf0-4dc9-8c89-926843ce56c7"
      },
      "source": [
        "recommended"
      ],
      "execution_count": 11,
      "outputs": [
        {
          "output_type": "execute_result",
          "data": {
            "text/plain": [
              "(557, 559, 556, 553, 558, 563, 560, 561, 562, 1682)"
            ]
          },
          "metadata": {
            "tags": []
          },
          "execution_count": 11
        }
      ]
    },
    {
      "cell_type": "code",
      "metadata": {
        "colab": {
          "base_uri": "https://localhost:8080/",
          "height": 359
        },
        "id": "E3-EUzgF9Ujj",
        "outputId": "b5944f17-728c-41a5-958c-98800a0458b7"
      },
      "source": [
        "recommend_frame = []\n",
        "for val in recommended:\n",
        "    movie_idx = ratings.iloc[val]['movie_id']\n",
        "    idx = movies[movies['movie_id'] == movie_idx].index\n",
        "    recommend_frame.append({'Title':movies.iloc[idx]['title'].values[0]})\n",
        "df = pd.DataFrame(recommend_frame,index=range(1,11))\n",
        "df"
      ],
      "execution_count": 12,
      "outputs": [
        {
          "output_type": "execute_result",
          "data": {
            "text/html": [
              "<div>\n",
              "<style scoped>\n",
              "    .dataframe tbody tr th:only-of-type {\n",
              "        vertical-align: middle;\n",
              "    }\n",
              "\n",
              "    .dataframe tbody tr th {\n",
              "        vertical-align: top;\n",
              "    }\n",
              "\n",
              "    .dataframe thead th {\n",
              "        text-align: right;\n",
              "    }\n",
              "</style>\n",
              "<table border=\"1\" class=\"dataframe\">\n",
              "  <thead>\n",
              "    <tr style=\"text-align: right;\">\n",
              "      <th></th>\n",
              "      <th>Title</th>\n",
              "    </tr>\n",
              "  </thead>\n",
              "  <tbody>\n",
              "    <tr>\n",
              "      <th>1</th>\n",
              "      <td>Kundun (1997)</td>\n",
              "    </tr>\n",
              "    <tr>\n",
              "      <th>2</th>\n",
              "      <td>Rear Window (1954)</td>\n",
              "    </tr>\n",
              "    <tr>\n",
              "      <th>3</th>\n",
              "      <td>Omen, The (1976)</td>\n",
              "    </tr>\n",
              "    <tr>\n",
              "      <th>4</th>\n",
              "      <td>Kull the Conqueror (1997)</td>\n",
              "    </tr>\n",
              "    <tr>\n",
              "      <th>5</th>\n",
              "      <td>With Honors (1994)</td>\n",
              "    </tr>\n",
              "    <tr>\n",
              "      <th>6</th>\n",
              "      <td>Birdcage, The (1996)</td>\n",
              "    </tr>\n",
              "    <tr>\n",
              "      <th>7</th>\n",
              "      <td>Great Expectations (1998)</td>\n",
              "    </tr>\n",
              "    <tr>\n",
              "      <th>8</th>\n",
              "      <td>Hunt for Red October, The (1990)</td>\n",
              "    </tr>\n",
              "    <tr>\n",
              "      <th>9</th>\n",
              "      <td>Evita (1996)</td>\n",
              "    </tr>\n",
              "    <tr>\n",
              "      <th>10</th>\n",
              "      <td>House of Yes, The (1997)</td>\n",
              "    </tr>\n",
              "  </tbody>\n",
              "</table>\n",
              "</div>"
            ],
            "text/plain": [
              "                               Title\n",
              "1                      Kundun (1997)\n",
              "2                 Rear Window (1954)\n",
              "3                   Omen, The (1976)\n",
              "4          Kull the Conqueror (1997)\n",
              "5                 With Honors (1994)\n",
              "6               Birdcage, The (1996)\n",
              "7          Great Expectations (1998)\n",
              "8   Hunt for Red October, The (1990)\n",
              "9                       Evita (1996)\n",
              "10          House of Yes, The (1997)"
            ]
          },
          "metadata": {
            "tags": []
          },
          "execution_count": 12
        }
      ]
    },
    {
      "cell_type": "code",
      "metadata": {
        "id": "lPDtrDi86nmq"
      },
      "source": [
        ""
      ],
      "execution_count": null,
      "outputs": []
    }
  ]
}