{
  "nbformat": 4,
  "nbformat_minor": 0,
  "metadata": {
    "colab": {
      "name": "Deep_Matrix_Factorization.ipynb",
      "provenance": [],
      "collapsed_sections": []
    },
    "kernelspec": {
      "name": "python3",
      "display_name": "Python 3"
    },
    "language_info": {
      "name": "python"
    }
  },
  "cells": [
    {
      "cell_type": "code",
      "metadata": {
        "colab": {
          "base_uri": "https://localhost:8080/"
        },
        "id": "W7-RZgMfV2hg",
        "outputId": "c5a243db-e54e-48f8-8ebd-f52f1e2643d5"
      },
      "source": [
        "from google.colab import drive\n",
        "drive.mount('/content/drive')"
      ],
      "execution_count": 3,
      "outputs": [
        {
          "output_type": "stream",
          "text": [
            "Mounted at /content/drive\n"
          ],
          "name": "stdout"
        }
      ]
    },
    {
      "cell_type": "code",
      "metadata": {
        "colab": {
          "base_uri": "https://localhost:8080/"
        },
        "id": "epVjFwHaWXqP",
        "outputId": "3be51faa-7ff4-4dd1-9720-c09d2da1f9cf"
      },
      "source": [
        "%cp -av /content/drive/MyDrive/rec reco"
      ],
      "execution_count": 4,
      "outputs": [
        {
          "output_type": "stream",
          "text": [
            "'/content/drive/MyDrive/rec' -> 'reco'\n",
            "'/content/drive/MyDrive/rec/evaluate.py' -> 'reco/evaluate.py'\n",
            "'/content/drive/MyDrive/rec/utils.py' -> 'reco/utils.py'\n",
            "'/content/drive/MyDrive/rec/users.csv' -> 'reco/users.csv'\n",
            "'/content/drive/MyDrive/rec/recommend.py' -> 'reco/recommend.py'\n",
            "'/content/drive/MyDrive/rec/preprocess.py' -> 'reco/preprocess.py'\n",
            "'/content/drive/MyDrive/rec/vis.py' -> 'reco/vis.py'\n",
            "'/content/drive/MyDrive/rec/ratings.csv' -> 'reco/ratings.csv'\n",
            "'/content/drive/MyDrive/rec/items.csv' -> 'reco/items.csv'\n"
          ],
          "name": "stdout"
        }
      ]
    },
    {
      "cell_type": "code",
      "metadata": {
        "id": "sw_9S--q6n8A"
      },
      "source": [
        "import numpy as np\n",
        "import pickle\n",
        "import pandas as pd\n",
        "from IPython.display import SVG, display\n",
        "import matplotlib.pyplot as plt\n",
        "import seaborn as sns\n",
        "from reco.preprocess import encode_user_item, random_split, user_split\n",
        "from sklearn.neighbors import NearestNeighbors\n",
        "from reco.evaluate import get_embedding, get_predictions, recommend_topk\n",
        "from reco.evaluate import precision_at_k"
      ],
      "execution_count": 5,
      "outputs": []
    },
    {
      "cell_type": "code",
      "metadata": {
        "id": "PTk_tG1PWN_Z"
      },
      "source": [
        "df_ratings = pd.read_csv(\"reco/ratings.csv\")\n",
        "movies = pd.read_csv(\"reco/items.csv\")"
      ],
      "execution_count": 6,
      "outputs": []
    },
    {
      "cell_type": "code",
      "metadata": {
        "colab": {
          "base_uri": "https://localhost:8080/"
        },
        "id": "pN1XYU0eXvWH",
        "outputId": "31a8fa25-237c-48cd-f597-0f1d8069890f"
      },
      "source": [
        "DATA, user_encoder, item_encoder = encode_user_item(df_ratings, \"user_id\", \"movie_id\", \"rating\", \"unix_timestamp\")"
      ],
      "execution_count": 7,
      "outputs": [
        {
          "output_type": "stream",
          "text": [
            "Number of users:  943\n",
            "Number of items:  1682\n"
          ],
          "name": "stdout"
        }
      ]
    },
    {
      "cell_type": "code",
      "metadata": {
        "colab": {
          "base_uri": "https://localhost:8080/",
          "height": 204
        },
        "id": "KaNxNJFYX0gQ",
        "outputId": "10e6f391-ccf3-476c-dde5-28a5b92b8349"
      },
      "source": [
        "DATA.head()"
      ],
      "execution_count": 8,
      "outputs": [
        {
          "output_type": "execute_result",
          "data": {
            "text/html": [
              "<div>\n",
              "<style scoped>\n",
              "    .dataframe tbody tr th:only-of-type {\n",
              "        vertical-align: middle;\n",
              "    }\n",
              "\n",
              "    .dataframe tbody tr th {\n",
              "        vertical-align: top;\n",
              "    }\n",
              "\n",
              "    .dataframe thead th {\n",
              "        text-align: right;\n",
              "    }\n",
              "</style>\n",
              "<table border=\"1\" class=\"dataframe\">\n",
              "  <thead>\n",
              "    <tr style=\"text-align: right;\">\n",
              "      <th></th>\n",
              "      <th>user_id</th>\n",
              "      <th>movie_id</th>\n",
              "      <th>RATING</th>\n",
              "      <th>TIMESTAMP</th>\n",
              "      <th>USER</th>\n",
              "      <th>ITEM</th>\n",
              "    </tr>\n",
              "  </thead>\n",
              "  <tbody>\n",
              "    <tr>\n",
              "      <th>0</th>\n",
              "      <td>196</td>\n",
              "      <td>242</td>\n",
              "      <td>3</td>\n",
              "      <td>881250949</td>\n",
              "      <td>195</td>\n",
              "      <td>241</td>\n",
              "    </tr>\n",
              "    <tr>\n",
              "      <th>1</th>\n",
              "      <td>186</td>\n",
              "      <td>302</td>\n",
              "      <td>3</td>\n",
              "      <td>891717742</td>\n",
              "      <td>185</td>\n",
              "      <td>301</td>\n",
              "    </tr>\n",
              "    <tr>\n",
              "      <th>2</th>\n",
              "      <td>22</td>\n",
              "      <td>377</td>\n",
              "      <td>1</td>\n",
              "      <td>878887116</td>\n",
              "      <td>21</td>\n",
              "      <td>376</td>\n",
              "    </tr>\n",
              "    <tr>\n",
              "      <th>3</th>\n",
              "      <td>244</td>\n",
              "      <td>51</td>\n",
              "      <td>2</td>\n",
              "      <td>880606923</td>\n",
              "      <td>243</td>\n",
              "      <td>50</td>\n",
              "    </tr>\n",
              "    <tr>\n",
              "      <th>4</th>\n",
              "      <td>166</td>\n",
              "      <td>346</td>\n",
              "      <td>1</td>\n",
              "      <td>886397596</td>\n",
              "      <td>165</td>\n",
              "      <td>345</td>\n",
              "    </tr>\n",
              "  </tbody>\n",
              "</table>\n",
              "</div>"
            ],
            "text/plain": [
              "   user_id  movie_id  RATING  TIMESTAMP  USER  ITEM\n",
              "0      196       242       3  881250949   195   241\n",
              "1      186       302       3  891717742   185   301\n",
              "2       22       377       1  878887116    21   376\n",
              "3      244        51       2  880606923   243    50\n",
              "4      166       346       1  886397596   165   345"
            ]
          },
          "metadata": {
            "tags": []
          },
          "execution_count": 8
        }
      ]
    },
    {
      "cell_type": "code",
      "metadata": {
        "id": "Na_hSIoTYrUX",
        "colab": {
          "base_uri": "https://localhost:8080/"
        },
        "outputId": "baeda952-8afd-49f2-b1e5-d0e9e7405dd5"
      },
      "source": [
        "n_users = DATA.USER.nunique()\n",
        "n_items = DATA.ITEM.nunique()\n",
        "max_rating = DATA.RATING.max()\n",
        "min_rating = DATA.RATING.min()\n",
        "n_users"
      ],
      "execution_count": 9,
      "outputs": [
        {
          "output_type": "execute_result",
          "data": {
            "text/plain": [
              "943"
            ]
          },
          "metadata": {
            "tags": []
          },
          "execution_count": 9
        }
      ]
    },
    {
      "cell_type": "code",
      "metadata": {
        "id": "tjUkz-ZzX7yq"
      },
      "source": [
        "train, test = user_split(DATA, [0.9, 0.1])"
      ],
      "execution_count": 10,
      "outputs": []
    },
    {
      "cell_type": "code",
      "metadata": {
        "id": "MtAsTIxkYYpe"
      },
      "source": [
        "from keras.models import Model\n",
        "from keras.layers import Input, Embedding, Flatten, Dot, Add, Lambda, Activation, Reshape, Concatenate, Dense, Dropout\n",
        "from keras.regularizers import l2\n",
        "from keras.constraints import non_neg\n",
        "from keras.optimizers import Adam\n",
        "from keras.utils.vis_utils import model_to_dot\n",
        "from reco import vis"
      ],
      "execution_count": 11,
      "outputs": []
    },
    {
      "cell_type": "code",
      "metadata": {
        "id": "xbJNdJBTYhKT"
      },
      "source": [
        "def Deep_MF(n_users, n_items, n_factors):\n",
        "    \n",
        "    # Item Layer\n",
        "    item_input = Input(shape=[1], name='Item')\n",
        "    item_embedding = Embedding(n_items, n_factors, embeddings_regularizer=l2(1e-6),\n",
        "                               embeddings_initializer='glorot_normal',\n",
        "                               name='ItemEmbedding')(item_input)\n",
        "    item_vec = Flatten(name='FlattenItemE')(item_embedding)\n",
        "    \n",
        "    # Item Bias\n",
        "    item_bias = Embedding(n_items, 1, embeddings_regularizer=l2(1e-6), \n",
        "                          embeddings_initializer='glorot_normal',\n",
        "                          name='ItemBias')(item_input)\n",
        "    item_bias_vec = Flatten(name='FlattenItemBiasE')(item_bias)\n",
        "\n",
        "    # User Layer\n",
        "    user_input = Input(shape=[1], name='User')\n",
        "    user_embedding = Embedding(n_users, n_factors, embeddings_regularizer=l2(1e-6),\n",
        "                               embeddings_initializer='glorot_normal',\n",
        "                               name='UserEmbedding')(user_input)\n",
        "    user_vec = Flatten(name='FlattenUserE')(user_embedding)\n",
        "    \n",
        "    # User Bias\n",
        "    user_bias = Embedding(n_users, 1, embeddings_regularizer=l2(1e-6), \n",
        "                        embeddings_initializer='glorot_normal',\n",
        "                          name='UserBias')(user_input)\n",
        "    user_bias_vec = Flatten(name='FlattenUserBiasE')(user_bias)\n",
        "\n",
        "    # Dot Product of Item and User & then Add Bias\n",
        "    Concat = Concatenate(name='Concat')([item_vec, user_vec])\n",
        "    ConcatDrop = Dropout(0.5)(Concat)\n",
        "\n",
        "    kernel_initializer='he_normal'\n",
        "    \n",
        "    # Use Dense to learn non-linear dense representation\n",
        "    Dense_1 = Dense(10, kernel_initializer='glorot_normal', name=\"Dense1\")(ConcatDrop)\n",
        "    Dense_1_Drop = Dropout(0.5)(Dense_1)\n",
        "    Dense_2 = Dense(1, kernel_initializer='glorot_normal', name=\"Dense2\")(Dense_1_Drop)\n",
        "\n",
        "    \n",
        "    AddBias = Add(name=\"AddBias\")([Dense_2, item_bias_vec, user_bias_vec])\n",
        "    \n",
        "    \n",
        "    \n",
        "    # Scaling for each user\n",
        "    y = Activation('sigmoid')(AddBias)\n",
        "    rating_output = Lambda(lambda x: x * (max_rating - min_rating) + min_rating)(y)\n",
        "    \n",
        "    # Model Creation\n",
        "    model = Model([user_input, item_input], rating_output)\n",
        "    \n",
        "    # Compile Model\n",
        "    model.compile(loss='mean_squared_error', optimizer=Adam(learning_rate=0.001))\n",
        "    \n",
        "    return model"
      ],
      "execution_count": 12,
      "outputs": []
    },
    {
      "cell_type": "code",
      "metadata": {
        "colab": {
          "base_uri": "https://localhost:8080/"
        },
        "id": "FXkOEe08Y07t",
        "outputId": "be308465-d2ec-4f93-c0cf-5e0bdbdb73c1"
      },
      "source": [
        "n_factors = 50\n",
        "model = Deep_MF(n_users, n_items, n_factors)\n",
        "model.summary()"
      ],
      "execution_count": 13,
      "outputs": [
        {
          "output_type": "stream",
          "text": [
            "Model: \"model\"\n",
            "__________________________________________________________________________________________________\n",
            "Layer (type)                    Output Shape         Param #     Connected to                     \n",
            "==================================================================================================\n",
            "Item (InputLayer)               [(None, 1)]          0                                            \n",
            "__________________________________________________________________________________________________\n",
            "User (InputLayer)               [(None, 1)]          0                                            \n",
            "__________________________________________________________________________________________________\n",
            "ItemEmbedding (Embedding)       (None, 1, 50)        84100       Item[0][0]                       \n",
            "__________________________________________________________________________________________________\n",
            "UserEmbedding (Embedding)       (None, 1, 50)        47150       User[0][0]                       \n",
            "__________________________________________________________________________________________________\n",
            "FlattenItemE (Flatten)          (None, 50)           0           ItemEmbedding[0][0]              \n",
            "__________________________________________________________________________________________________\n",
            "FlattenUserE (Flatten)          (None, 50)           0           UserEmbedding[0][0]              \n",
            "__________________________________________________________________________________________________\n",
            "Concat (Concatenate)            (None, 100)          0           FlattenItemE[0][0]               \n",
            "                                                                 FlattenUserE[0][0]               \n",
            "__________________________________________________________________________________________________\n",
            "dropout (Dropout)               (None, 100)          0           Concat[0][0]                     \n",
            "__________________________________________________________________________________________________\n",
            "Dense1 (Dense)                  (None, 10)           1010        dropout[0][0]                    \n",
            "__________________________________________________________________________________________________\n",
            "dropout_1 (Dropout)             (None, 10)           0           Dense1[0][0]                     \n",
            "__________________________________________________________________________________________________\n",
            "ItemBias (Embedding)            (None, 1, 1)         1682        Item[0][0]                       \n",
            "__________________________________________________________________________________________________\n",
            "UserBias (Embedding)            (None, 1, 1)         943         User[0][0]                       \n",
            "__________________________________________________________________________________________________\n",
            "Dense2 (Dense)                  (None, 1)            11          dropout_1[0][0]                  \n",
            "__________________________________________________________________________________________________\n",
            "FlattenItemBiasE (Flatten)      (None, 1)            0           ItemBias[0][0]                   \n",
            "__________________________________________________________________________________________________\n",
            "FlattenUserBiasE (Flatten)      (None, 1)            0           UserBias[0][0]                   \n",
            "__________________________________________________________________________________________________\n",
            "AddBias (Add)                   (None, 1)            0           Dense2[0][0]                     \n",
            "                                                                 FlattenItemBiasE[0][0]           \n",
            "                                                                 FlattenUserBiasE[0][0]           \n",
            "__________________________________________________________________________________________________\n",
            "activation (Activation)         (None, 1)            0           AddBias[0][0]                    \n",
            "__________________________________________________________________________________________________\n",
            "lambda (Lambda)                 (None, 1)            0           activation[0][0]                 \n",
            "==================================================================================================\n",
            "Total params: 134,896\n",
            "Trainable params: 134,896\n",
            "Non-trainable params: 0\n",
            "__________________________________________________________________________________________________\n"
          ],
          "name": "stdout"
        }
      ]
    },
    {
      "cell_type": "code",
      "metadata": {
        "colab": {
          "base_uri": "https://localhost:8080/"
        },
        "id": "6PKhwNS_Y8_V",
        "outputId": "420a9fb3-a559-4c79-a213-ad0005f05840"
      },
      "source": [
        "output = model.fit([train.USER, train.ITEM], train.RATING, \n",
        "                                  batch_size=128, epochs=5, verbose=1, \n",
        "                   validation_data= ([test.USER, test.ITEM], test.RATING))"
      ],
      "execution_count": 14,
      "outputs": [
        {
          "output_type": "stream",
          "text": [
            "Epoch 1/5\n",
            "704/704 [==============================] - 19s 4ms/step - loss: 1.1890 - val_loss: 0.9064\n",
            "Epoch 2/5\n",
            "704/704 [==============================] - 2s 3ms/step - loss: 0.9339 - val_loss: 0.8943\n",
            "Epoch 3/5\n",
            "704/704 [==============================] - 2s 3ms/step - loss: 0.9014 - val_loss: 0.8871\n",
            "Epoch 4/5\n",
            "704/704 [==============================] - 2s 3ms/step - loss: 0.8889 - val_loss: 0.8902\n",
            "Epoch 5/5\n",
            "704/704 [==============================] - 2s 3ms/step - loss: 0.8768 - val_loss: 0.8871\n"
          ],
          "name": "stdout"
        }
      ]
    },
    {
      "cell_type": "code",
      "metadata": {
        "colab": {
          "base_uri": "https://localhost:8080/",
          "height": 426
        },
        "id": "XUIG8oS4ZHfI",
        "outputId": "3d357a30-e409-42da-90ab-d058645ac3d3"
      },
      "source": [
        "vis.metrics(output.history)"
      ],
      "execution_count": 15,
      "outputs": [
        {
          "output_type": "execute_result",
          "data": {
            "text/plain": [
              "alt.FacetChart(...)"
            ],
            "text/html": [
              "\n",
              "<div id=\"altair-viz-05cc1617df0045e1b0026ddbbb6c8e5a\"></div>\n",
              "<script type=\"text/javascript\">\n",
              "  (function(spec, embedOpt){\n",
              "    let outputDiv = document.currentScript.previousElementSibling;\n",
              "    if (outputDiv.id !== \"altair-viz-05cc1617df0045e1b0026ddbbb6c8e5a\") {\n",
              "      outputDiv = document.getElementById(\"altair-viz-05cc1617df0045e1b0026ddbbb6c8e5a\");\n",
              "    }\n",
              "    const paths = {\n",
              "      \"vega\": \"https://cdn.jsdelivr.net/npm//vega@5?noext\",\n",
              "      \"vega-lib\": \"https://cdn.jsdelivr.net/npm//vega-lib?noext\",\n",
              "      \"vega-lite\": \"https://cdn.jsdelivr.net/npm//vega-lite@4.8.1?noext\",\n",
              "      \"vega-embed\": \"https://cdn.jsdelivr.net/npm//vega-embed@6?noext\",\n",
              "    };\n",
              "\n",
              "    function loadScript(lib) {\n",
              "      return new Promise(function(resolve, reject) {\n",
              "        var s = document.createElement('script');\n",
              "        s.src = paths[lib];\n",
              "        s.async = true;\n",
              "        s.onload = () => resolve(paths[lib]);\n",
              "        s.onerror = () => reject(`Error loading script: ${paths[lib]}`);\n",
              "        document.getElementsByTagName(\"head\")[0].appendChild(s);\n",
              "      });\n",
              "    }\n",
              "\n",
              "    function showError(err) {\n",
              "      outputDiv.innerHTML = `<div class=\"error\" style=\"color:red;\">${err}</div>`;\n",
              "      throw err;\n",
              "    }\n",
              "\n",
              "    function displayChart(vegaEmbed) {\n",
              "      vegaEmbed(outputDiv, spec, embedOpt)\n",
              "        .catch(err => showError(`Javascript Error: ${err.message}<br>This usually means there's a typo in your chart specification. See the javascript console for the full traceback.`));\n",
              "    }\n",
              "\n",
              "    if(typeof define === \"function\" && define.amd) {\n",
              "      requirejs.config({paths});\n",
              "      require([\"vega-embed\"], displayChart, err => showError(`Error loading script: ${err.message}`));\n",
              "    } else if (typeof vegaEmbed === \"function\") {\n",
              "      displayChart(vegaEmbed);\n",
              "    } else {\n",
              "      loadScript(\"vega\")\n",
              "        .then(() => loadScript(\"vega-lite\"))\n",
              "        .then(() => loadScript(\"vega-embed\"))\n",
              "        .catch(showError)\n",
              "        .then(() => displayChart(vegaEmbed));\n",
              "    }\n",
              "  })({\"config\": {\"view\": {\"continuousWidth\": 400, \"continuousHeight\": 300}}, \"data\": {\"name\": \"data-50e7a9916b93e6bdf3a610a48a2b9ab4\"}, \"facet\": {\"column\": {\"type\": \"nominal\", \"field\": \"metrics\"}}, \"spec\": {\"layer\": [{\"mark\": {\"type\": \"circle\", \"size\": 50}, \"encoding\": {\"color\": {\"type\": \"nominal\", \"field\": \"type\"}, \"tooltip\": [{\"type\": \"quantitative\", \"field\": \"batch\"}, {\"type\": \"quantitative\", \"field\": \"value\"}], \"x\": {\"type\": \"quantitative\", \"field\": \"batch\"}, \"y\": {\"type\": \"quantitative\", \"field\": \"value\"}}, \"height\": 300, \"width\": 300}, {\"mark\": \"line\", \"encoding\": {\"color\": {\"type\": \"nominal\", \"field\": \"type\"}, \"x\": {\"type\": \"quantitative\", \"field\": \"batch\"}, \"y\": {\"type\": \"quantitative\", \"field\": \"value\"}}, \"height\": 300, \"width\": 300}]}, \"resolve\": {\"scale\": {\"y\": \"independent\"}}, \"$schema\": \"https://vega.github.io/schema/vega-lite/v4.8.1.json\", \"datasets\": {\"data-50e7a9916b93e6bdf3a610a48a2b9ab4\": [{\"batch\": 1, \"value\": 1.0582760572433472, \"type\": \"training\", \"metrics\": \"loss\"}, {\"batch\": 2, \"value\": 0.9285104274749756, \"type\": \"training\", \"metrics\": \"loss\"}, {\"batch\": 3, \"value\": 0.9036381244659424, \"type\": \"training\", \"metrics\": \"loss\"}, {\"batch\": 4, \"value\": 0.8933447599411011, \"type\": \"training\", \"metrics\": \"loss\"}, {\"batch\": 5, \"value\": 0.8840473294258118, \"type\": \"training\", \"metrics\": \"loss\"}, {\"batch\": 1, \"value\": 0.9064220190048218, \"type\": \"validation\", \"metrics\": \"loss\"}, {\"batch\": 2, \"value\": 0.894288957118988, \"type\": \"validation\", \"metrics\": \"loss\"}, {\"batch\": 3, \"value\": 0.8870862722396851, \"type\": \"validation\", \"metrics\": \"loss\"}, {\"batch\": 4, \"value\": 0.8902007937431335, \"type\": \"validation\", \"metrics\": \"loss\"}, {\"batch\": 5, \"value\": 0.8871420621871948, \"type\": \"validation\", \"metrics\": \"loss\"}]}}, {\"mode\": \"vega-lite\"});\n",
              "</script>"
            ]
          },
          "metadata": {
            "tags": []
          },
          "execution_count": 15
        }
      ]
    },
    {
      "cell_type": "code",
      "metadata": {
        "id": "b5OMPFSJBUGN"
      },
      "source": [
        "ranking_topk = recommend_topk(model, DATA, train, k=5)"
      ],
      "execution_count": 17,
      "outputs": []
    },
    {
      "cell_type": "code",
      "metadata": {
        "colab": {
          "base_uri": "https://localhost:8080/"
        },
        "id": "fIDufkHPBgxi",
        "outputId": "3d50090b-1f13-440b-e0da-5ed8a0fe42a8"
      },
      "source": [
        "precision = precision_at_k(test, ranking_topk, k=10)\n",
        "precision"
      ],
      "execution_count": 18,
      "outputs": [
        {
          "output_type": "execute_result",
          "data": {
            "text/plain": [
              "0.016755037115588543"
            ]
          },
          "metadata": {
            "tags": []
          },
          "execution_count": 18
        }
      ]
    },
    {
      "cell_type": "code",
      "metadata": {
        "id": "Sk3vJ6HfZTHY"
      },
      "source": [
        "embedding = model.get_layer(name = \"ItemEmbedding\").get_weights()[0]"
      ],
      "execution_count": 16,
      "outputs": []
    },
    {
      "cell_type": "code",
      "metadata": {
        "id": "-7OrUG87knBA"
      },
      "source": [
        "np.save('embedding.npy', embedding)"
      ],
      "execution_count": 43,
      "outputs": []
    },
    {
      "cell_type": "code",
      "metadata": {
        "id": "95ZeThx4b6Ii"
      },
      "source": [
        "model_res = NearestNeighbors(n_neighbors=20, algorithm=\"ball_tree\").fit(embedding)\n",
        "\n",
        "with open('deep_matrix_factorzation.sav', 'wb') as pickle_out:\n",
        "    pickle.dump(model_res, pickle_out)\n",
        "\n",
        "distances, indices = model_res.kneighbors(embedding,n_neighbors=10)"
      ],
      "execution_count": 60,
      "outputs": []
    },
    {
      "cell_type": "code",
      "metadata": {
        "colab": {
          "base_uri": "https://localhost:8080/"
        },
        "id": "gxTTbbiVplSj",
        "outputId": "85d1ce92-00c7-4779-dbfe-289c6a22e58d"
      },
      "source": [
        "recommended = indices[user_encoder.transform([1])]\n",
        "recommended"
      ],
      "execution_count": 67,
      "outputs": [
        {
          "output_type": "execute_result",
          "data": {
            "text/plain": [
              "array([[   0, 1497, 1525, 1357, 1481, 1397, 1634,  644,    6, 1615]])"
            ]
          },
          "metadata": {
            "tags": []
          },
          "execution_count": 67
        }
      ]
    },
    {
      "cell_type": "code",
      "metadata": {
        "colab": {
          "base_uri": "https://localhost:8080/",
          "height": 359
        },
        "id": "8BTuSudXccjm",
        "outputId": "34d6693a-26e5-455a-d925-b40a79e49eba"
      },
      "source": [
        "recommend_frame = []\n",
        "for val in recommended[0]:\n",
        "    movie_idx = DATA.iloc[val]['movie_id']\n",
        "    idx = movies[movies['movie_id'] == movie_idx].index\n",
        "    recommend_frame.append({'Title':movies.iloc[idx]['title'].values[0]})\n",
        "df = pd.DataFrame(recommend_frame,index=range(1,11))\n",
        "df"
      ],
      "execution_count": 68,
      "outputs": [
        {
          "output_type": "execute_result",
          "data": {
            "text/html": [
              "<div>\n",
              "<style scoped>\n",
              "    .dataframe tbody tr th:only-of-type {\n",
              "        vertical-align: middle;\n",
              "    }\n",
              "\n",
              "    .dataframe tbody tr th {\n",
              "        vertical-align: top;\n",
              "    }\n",
              "\n",
              "    .dataframe thead th {\n",
              "        text-align: right;\n",
              "    }\n",
              "</style>\n",
              "<table border=\"1\" class=\"dataframe\">\n",
              "  <thead>\n",
              "    <tr style=\"text-align: right;\">\n",
              "      <th></th>\n",
              "      <th>Title</th>\n",
              "    </tr>\n",
              "  </thead>\n",
              "  <tbody>\n",
              "    <tr>\n",
              "      <th>1</th>\n",
              "      <td>Kolya (1996)</td>\n",
              "    </tr>\n",
              "    <tr>\n",
              "      <th>2</th>\n",
              "      <td>Basquiat (1996)</td>\n",
              "    </tr>\n",
              "    <tr>\n",
              "      <th>3</th>\n",
              "      <td>Quiz Show (1994)</td>\n",
              "    </tr>\n",
              "    <tr>\n",
              "      <th>4</th>\n",
              "      <td>Bram Stoker's Dracula (1992)</td>\n",
              "    </tr>\n",
              "    <tr>\n",
              "      <th>5</th>\n",
              "      <td>Jurassic Park (1993)</td>\n",
              "    </tr>\n",
              "    <tr>\n",
              "      <th>6</th>\n",
              "      <td>Mary Poppins (1964)</td>\n",
              "    </tr>\n",
              "    <tr>\n",
              "      <th>7</th>\n",
              "      <td>Philadelphia Story, The (1940)</td>\n",
              "    </tr>\n",
              "    <tr>\n",
              "      <th>8</th>\n",
              "      <td>Money Train (1995)</td>\n",
              "    </tr>\n",
              "    <tr>\n",
              "      <th>9</th>\n",
              "      <td>Hunt for Red October, The (1990)</td>\n",
              "    </tr>\n",
              "    <tr>\n",
              "      <th>10</th>\n",
              "      <td>Ran (1985)</td>\n",
              "    </tr>\n",
              "  </tbody>\n",
              "</table>\n",
              "</div>"
            ],
            "text/plain": [
              "                               Title\n",
              "1                       Kolya (1996)\n",
              "2                    Basquiat (1996)\n",
              "3                   Quiz Show (1994)\n",
              "4       Bram Stoker's Dracula (1992)\n",
              "5               Jurassic Park (1993)\n",
              "6                Mary Poppins (1964)\n",
              "7     Philadelphia Story, The (1940)\n",
              "8                 Money Train (1995)\n",
              "9   Hunt for Red October, The (1990)\n",
              "10                        Ran (1985)"
            ]
          },
          "metadata": {
            "tags": []
          },
          "execution_count": 68
        }
      ]
    }
  ]
}